{
 "cells": [
  {
   "cell_type": "markdown",
   "id": "rough-electricity",
   "metadata": {},
   "source": [
    "# PWN detectability test"
   ]
  },
  {
   "cell_type": "code",
   "execution_count": null,
   "id": "wireless-abortion",
   "metadata": {},
   "outputs": [],
   "source": [
    "# %matplotlib inline"
   ]
  },
  {
   "cell_type": "code",
   "execution_count": null,
   "id": "5d39df6c",
   "metadata": {},
   "outputs": [],
   "source": [
    "# FoV * Fluence threshold ^-3/2"
   ]
  },
  {
   "cell_type": "code",
   "execution_count": 1,
   "id": "legitimate-dialogue",
   "metadata": {},
   "outputs": [],
   "source": [
    "import numpy as np\n",
    "import pandas as pd\n",
    "import matplotlib.pyplot as plt\n",
    "\n",
    "import matplotlib \n",
    "matplotlib.rc('xtick', labelsize=15) \n",
    "matplotlib.rc('ytick', labelsize=15) \n"
   ]
  },
  {
   "cell_type": "code",
   "execution_count": 2,
   "id": "3009922c",
   "metadata": {},
   "outputs": [
    {
     "name": "stdout",
     "output_type": "stream",
     "text": [
      "-0.3500000000000001\n"
     ]
    },
    {
     "data": {
      "text/plain": [
       "(np.float64(5377.2255750516615), np.float64(294522.7744249483))"
      ]
     },
     "execution_count": 2,
     "metadata": {},
     "output_type": "execute_result"
    }
   ],
   "source": [
    "# Read the scv file in a pandas df\n",
    "df = pd.read_csv(\"HEXTE.csv\")\n",
    "df2 = pd.read_csv(\"RXTE-PCA.csv\")\n",
    "df3 = pd.read_csv(\"TotalPulsedSpectrum_INTEGRAL-ISGRI.csv\")\n",
    "df4 = pd.read_csv(\"TotalUnabsorbedSpectrum_INTEGRAL.csv\")\n",
    "df5 = pd.read_csv(\"TotalUnabsorbedSpectrum_XMM-Newton.csv\")\n",
    "df6 = pd.read_csv(\"UpperLimits_COMPTEL.csv\")\n",
    "df7 = pd.read_csv(\"UpperLimits_INTEGRAL_SPI.csv\")\n",
    "\n",
    "# Differential Flux spectrum = dF/dE = norm * E^(-index) #ph/cm2/s/MeV\n",
    "# Integrated FLux spectrum = F(E1,E2) = \\int_{E1}^{E2} dF/dE dE # MeV * ph/cm2/s/MeV = ph/cm2/s  #assume index > 1\n",
    "# F(E1,E2) = \\int_{E1}^{E2} norm * E^(-index) dE = norm E^(1-index) / (1-index)|_{E1}^{E2}\n",
    "# Energy Flux spectrum =  nuFnu =  \\int_{E1}^{E2} E * dF/dE dE   # MeV/cm2/s\n",
    "# nuFnu = \\int_{E1}^{E2} E * norm * E^(-index) dE = norm \\int_{E1}^{E2} E^(1-index) dE = norm E^(2-index) / (2-index)|_{E1}^{E2}\n",
    "\n",
    "our_lat_ul = 5.87e-6 * 1000\n",
    "our_lat_index = 2.35\n",
    "nuFnu_index = 2 - our_lat_index\n",
    "\n",
    "print(nuFnu_index)\n",
    "lat_emin, lat_emax = 100, 300000\n",
    "lat_emean = np.sqrt(lat_emin*lat_emax) # (lat_emin+lat_emax)/2\n",
    "\n",
    "\n",
    "def powerlaw(ENERGY, norm, index, Epivot):\n",
    "    return norm * (ENERGY/Epivot)**(-index)\n",
    "\n",
    "lat_energy_ = np.logspace(np.log10(lat_emin), np.log10(lat_emax), 100)\n",
    "lat_pl = powerlaw(lat_energy_, our_lat_ul, nuFnu_index, lat_emean)\n",
    "\n",
    "lat_emean-lat_emin, lat_emax-lat_emean"
   ]
  },
  {
   "cell_type": "code",
   "execution_count": null,
   "id": "9d0f1cc7",
   "metadata": {},
   "outputs": [
    {
     "name": "stdout",
     "output_type": "stream",
     "text": [
      "Index(['17.30534238707063', ' 0.003741579939744653'], dtype='object')\n"
     ]
    },
    {
     "ename": "KeyError",
     "evalue": "'ENERGY'",
     "output_type": "error",
     "traceback": [
      "\u001b[0;31m---------------------------------------------------------------------------\u001b[0m",
      "\u001b[0;31mKeyError\u001b[0m                                  Traceback (most recent call last)",
      "File \u001b[0;32m~/miniforge3/envs/main/lib/python3.13/site-packages/pandas/core/indexes/base.py:3805\u001b[0m, in \u001b[0;36mIndex.get_loc\u001b[0;34m(self, key)\u001b[0m\n\u001b[1;32m   3804\u001b[0m \u001b[38;5;28;01mtry\u001b[39;00m:\n\u001b[0;32m-> 3805\u001b[0m     \u001b[38;5;28;01mreturn\u001b[39;00m \u001b[38;5;28mself\u001b[39m\u001b[38;5;241m.\u001b[39m_engine\u001b[38;5;241m.\u001b[39mget_loc(casted_key)\n\u001b[1;32m   3806\u001b[0m \u001b[38;5;28;01mexcept\u001b[39;00m \u001b[38;5;167;01mKeyError\u001b[39;00m \u001b[38;5;28;01mas\u001b[39;00m err:\n",
      "File \u001b[0;32mindex.pyx:167\u001b[0m, in \u001b[0;36mpandas._libs.index.IndexEngine.get_loc\u001b[0;34m()\u001b[0m\n",
      "File \u001b[0;32mindex.pyx:196\u001b[0m, in \u001b[0;36mpandas._libs.index.IndexEngine.get_loc\u001b[0;34m()\u001b[0m\n",
      "File \u001b[0;32mpandas/_libs/hashtable_class_helper.pxi:7081\u001b[0m, in \u001b[0;36mpandas._libs.hashtable.PyObjectHashTable.get_item\u001b[0;34m()\u001b[0m\n",
      "File \u001b[0;32mpandas/_libs/hashtable_class_helper.pxi:7089\u001b[0m, in \u001b[0;36mpandas._libs.hashtable.PyObjectHashTable.get_item\u001b[0;34m()\u001b[0m\n",
      "\u001b[0;31mKeyError\u001b[0m: 'ENERGY'",
      "\nThe above exception was the direct cause of the following exception:\n",
      "\u001b[0;31mKeyError\u001b[0m                                  Traceback (most recent call last)",
      "Cell \u001b[0;32mIn[7], line 7\u001b[0m\n\u001b[1;32m      3\u001b[0m plt\u001b[38;5;241m.\u001b[39mfigure(figsize\u001b[38;5;241m=\u001b[39m(\u001b[38;5;241m10\u001b[39m,\u001b[38;5;241m7\u001b[39m))\n\u001b[1;32m      5\u001b[0m \u001b[38;5;28mprint\u001b[39m(df\u001b[38;5;241m.\u001b[39mcolumns)\n\u001b[0;32m----> 7\u001b[0m plt\u001b[38;5;241m.\u001b[39mplot(df[\u001b[38;5;124m'\u001b[39m\u001b[38;5;124mENERGY\u001b[39m\u001b[38;5;124m'\u001b[39m]\u001b[38;5;241m*\u001b[39m\u001b[38;5;241m1e-3\u001b[39m, df[\u001b[38;5;124m'\u001b[39m\u001b[38;5;124mnuFnu\u001b[39m\u001b[38;5;124m'\u001b[39m], \u001b[38;5;124m'\u001b[39m\u001b[38;5;124m.\u001b[39m\u001b[38;5;124m'\u001b[39m, label\u001b[38;5;241m=\u001b[39m\u001b[38;5;124m'\u001b[39m\u001b[38;5;124mDataset 1\u001b[39m\u001b[38;5;124m'\u001b[39m)\n\u001b[1;32m      8\u001b[0m plt\u001b[38;5;241m.\u001b[39merrorbar(df2[\u001b[38;5;124m'\u001b[39m\u001b[38;5;124mENERGY\u001b[39m\u001b[38;5;124m'\u001b[39m]\u001b[38;5;241m*\u001b[39m\u001b[38;5;241m1e-3\u001b[39m, df2[\u001b[38;5;124m'\u001b[39m\u001b[38;5;124mnuFnu\u001b[39m\u001b[38;5;124m'\u001b[39m], yerr\u001b[38;5;241m=\u001b[39mdf2[\u001b[38;5;124m'\u001b[39m\u001b[38;5;124mnuFnu\u001b[39m\u001b[38;5;124m'\u001b[39m]\u001b[38;5;241m*\u001b[39m\u001b[38;5;241m0.2\u001b[39m, uplims\u001b[38;5;241m=\u001b[39mul_df2, fmt\u001b[38;5;241m=\u001b[39m\u001b[38;5;124m'\u001b[39m\u001b[38;5;124m.\u001b[39m\u001b[38;5;124m'\u001b[39m, label\u001b[38;5;241m=\u001b[39m\u001b[38;5;124m'\u001b[39m\u001b[38;5;124mDataset 2\u001b[39m\u001b[38;5;124m'\u001b[39m)\n\u001b[1;32m      9\u001b[0m plt\u001b[38;5;241m.\u001b[39merrorbar([lat_emean], [our_lat_ul],  yerr\u001b[38;5;241m=\u001b[39mour_lat_ul\u001b[38;5;241m*\u001b[39m\u001b[38;5;241m0.2\u001b[39m, uplims\u001b[38;5;241m=\u001b[39m\u001b[38;5;28;01mTrue\u001b[39;00m, fmt\u001b[38;5;241m=\u001b[39m\u001b[38;5;124m'\u001b[39m\u001b[38;5;124m.\u001b[39m\u001b[38;5;124m'\u001b[39m, color\u001b[38;5;241m=\u001b[39m\u001b[38;5;124m'\u001b[39m\u001b[38;5;124mtab:green\u001b[39m\u001b[38;5;124m'\u001b[39m, label\u001b[38;5;241m=\u001b[39m\u001b[38;5;124m'\u001b[39m\u001b[38;5;124mLAT new UL\u001b[39m\u001b[38;5;124m'\u001b[39m) \u001b[38;5;66;03m#xerr=[[lat_emean-lat_emin], [lat_emax-lat_emean]], \u001b[39;00m\n",
      "File \u001b[0;32m~/miniforge3/envs/main/lib/python3.13/site-packages/pandas/core/frame.py:4102\u001b[0m, in \u001b[0;36mDataFrame.__getitem__\u001b[0;34m(self, key)\u001b[0m\n\u001b[1;32m   4100\u001b[0m \u001b[38;5;28;01mif\u001b[39;00m \u001b[38;5;28mself\u001b[39m\u001b[38;5;241m.\u001b[39mcolumns\u001b[38;5;241m.\u001b[39mnlevels \u001b[38;5;241m>\u001b[39m \u001b[38;5;241m1\u001b[39m:\n\u001b[1;32m   4101\u001b[0m     \u001b[38;5;28;01mreturn\u001b[39;00m \u001b[38;5;28mself\u001b[39m\u001b[38;5;241m.\u001b[39m_getitem_multilevel(key)\n\u001b[0;32m-> 4102\u001b[0m indexer \u001b[38;5;241m=\u001b[39m \u001b[38;5;28mself\u001b[39m\u001b[38;5;241m.\u001b[39mcolumns\u001b[38;5;241m.\u001b[39mget_loc(key)\n\u001b[1;32m   4103\u001b[0m \u001b[38;5;28;01mif\u001b[39;00m is_integer(indexer):\n\u001b[1;32m   4104\u001b[0m     indexer \u001b[38;5;241m=\u001b[39m [indexer]\n",
      "File \u001b[0;32m~/miniforge3/envs/main/lib/python3.13/site-packages/pandas/core/indexes/base.py:3812\u001b[0m, in \u001b[0;36mIndex.get_loc\u001b[0;34m(self, key)\u001b[0m\n\u001b[1;32m   3807\u001b[0m     \u001b[38;5;28;01mif\u001b[39;00m \u001b[38;5;28misinstance\u001b[39m(casted_key, \u001b[38;5;28mslice\u001b[39m) \u001b[38;5;129;01mor\u001b[39;00m (\n\u001b[1;32m   3808\u001b[0m         \u001b[38;5;28misinstance\u001b[39m(casted_key, abc\u001b[38;5;241m.\u001b[39mIterable)\n\u001b[1;32m   3809\u001b[0m         \u001b[38;5;129;01mand\u001b[39;00m \u001b[38;5;28many\u001b[39m(\u001b[38;5;28misinstance\u001b[39m(x, \u001b[38;5;28mslice\u001b[39m) \u001b[38;5;28;01mfor\u001b[39;00m x \u001b[38;5;129;01min\u001b[39;00m casted_key)\n\u001b[1;32m   3810\u001b[0m     ):\n\u001b[1;32m   3811\u001b[0m         \u001b[38;5;28;01mraise\u001b[39;00m InvalidIndexError(key)\n\u001b[0;32m-> 3812\u001b[0m     \u001b[38;5;28;01mraise\u001b[39;00m \u001b[38;5;167;01mKeyError\u001b[39;00m(key) \u001b[38;5;28;01mfrom\u001b[39;00m \u001b[38;5;21;01merr\u001b[39;00m\n\u001b[1;32m   3813\u001b[0m \u001b[38;5;28;01mexcept\u001b[39;00m \u001b[38;5;167;01mTypeError\u001b[39;00m:\n\u001b[1;32m   3814\u001b[0m     \u001b[38;5;66;03m# If we have a listlike key, _check_indexing_error will raise\u001b[39;00m\n\u001b[1;32m   3815\u001b[0m     \u001b[38;5;66;03m#  InvalidIndexError. Otherwise we fall through and re-raise\u001b[39;00m\n\u001b[1;32m   3816\u001b[0m     \u001b[38;5;66;03m#  the TypeError.\u001b[39;00m\n\u001b[1;32m   3817\u001b[0m     \u001b[38;5;28mself\u001b[39m\u001b[38;5;241m.\u001b[39m_check_indexing_error(key)\n",
      "\u001b[0;31mKeyError\u001b[0m: 'ENERGY'"
     ]
    },
    {
     "data": {
      "text/plain": [
       "<Figure size 1000x700 with 0 Axes>"
      ]
     },
     "metadata": {},
     "output_type": "display_data"
    }
   ],
   "source": [
    "ul_df2 = np.array([1,1,1], dtype=bool)\n",
    "#now plot energy vs nuFnu\n",
    "plt.figure(figsize=(10,7))\n",
    "plt.plot(df['ENERGY']*1e-3, df['nuFnu'], '.', label='Dataset 1')\n",
    "plt.errorbar(df2['ENERGY']*1e-3, df2['nuFnu'], yerr=df2['nuFnu']*0.2, uplims=ul_df2, fmt='.', label='Dataset 2')\n",
    "plt.errorbar([lat_emean], [our_lat_ul],  yerr=our_lat_ul*0.2, uplims=True, fmt='.', color='tab:green', label='LAT new UL') #xerr=[[lat_emean-lat_emin], [lat_emax-lat_emean]], \n",
    "plt.plot(lat_energy_, lat_pl, '-', color='tab:green', label='LAT new UL PL')\n",
    "plt.xscale('log')\n",
    "plt.yscale('log')\n",
    "plt.xlabel('Energy (MeV)', fontsize=15)\n",
    "plt.ylabel(r'E$^2$E (keV cm^-2 s^-1)', fontsize=15)\n",
    "plt.title('1RXS J1708-40', fontsize=15)\n",
    "plt.xlim(0.1e-3, 300000)\n",
    "plt.show()\n"
   ]
  },
  {
   "cell_type": "code",
   "execution_count": null,
   "id": "eb3d0c82",
   "metadata": {},
   "outputs": [],
   "source": []
  }
 ],
 "metadata": {
  "hide_input": false,
  "kernelspec": {
   "display_name": "main",
   "language": "python",
   "name": "python3"
  },
  "language_info": {
   "codemirror_mode": {
    "name": "ipython",
    "version": 3
   },
   "file_extension": ".py",
   "mimetype": "text/x-python",
   "name": "python",
   "nbconvert_exporter": "python",
   "pygments_lexer": "ipython3",
   "version": "3.13.1"
  },
  "latex_envs": {
   "LaTeX_envs_menu_present": true,
   "autoclose": false,
   "autocomplete": true,
   "bibliofile": "biblio.bib",
   "cite_by": "apalike",
   "current_citInitial": 1,
   "eqLabelWithNumbers": true,
   "eqNumInitial": 1,
   "hotkeys": {
    "equation": "Ctrl-E",
    "itemize": "Ctrl-I"
   },
   "labels_anchors": false,
   "latex_user_defs": false,
   "report_style_numbering": false,
   "user_envs_cfg": false
  },
  "toc": {
   "base_numbering": 1,
   "nav_menu": {},
   "number_sections": true,
   "sideBar": true,
   "skip_h1_title": false,
   "title_cell": "Table of Contents",
   "title_sidebar": "Contents",
   "toc_cell": false,
   "toc_position": {
    "height": "calc(100% - 180px)",
    "left": "10px",
    "top": "150px",
    "width": "298.1041564941406px"
   },
   "toc_section_display": true,
   "toc_window_display": true
  },
  "varInspector": {
   "cols": {
    "lenName": 16,
    "lenType": 16,
    "lenVar": 40
   },
   "kernels_config": {
    "python": {
     "delete_cmd_postfix": "",
     "delete_cmd_prefix": "del ",
     "library": "var_list.py",
     "varRefreshCmd": "print(var_dic_list())"
    },
    "r": {
     "delete_cmd_postfix": ") ",
     "delete_cmd_prefix": "rm(",
     "library": "var_list.r",
     "varRefreshCmd": "cat(var_dic_list()) "
    }
   },
   "types_to_exclude": [
    "module",
    "function",
    "builtin_function_or_method",
    "instance",
    "_Feature"
   ],
   "window_display": false
  }
 },
 "nbformat": 4,
 "nbformat_minor": 5
}
